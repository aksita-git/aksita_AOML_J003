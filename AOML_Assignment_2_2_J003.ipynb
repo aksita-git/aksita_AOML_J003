{
 "cells": [
  {
   "cell_type": "code",
   "execution_count": 2,
   "id": "bb3a2967",
   "metadata": {},
   "outputs": [],
   "source": [
    "import pandas as pd\n",
    "import numpy as np\n",
    "import seaborn as sns\n",
    "import matplotlib.pyplot as plt\n",
    "from sklearn.model_selection import train_test_split\n",
    "from sklearn.preprocessing import StandardScaler\n",
    "from sklearn.ensemble import RandomForestClassifier\n",
    "from sklearn.metrics import classification_report, confusion_matrix\n",
    "import joblib\n",
    "from sklearn.linear_model import Ridge, Lasso\n",
    "from sklearn.metrics import mean_absolute_error, mean_squared_error"
   ]
  },
  {
   "cell_type": "code",
   "execution_count": 3,
   "id": "a2c64f2d",
   "metadata": {},
   "outputs": [
    {
     "name": "stdout",
     "output_type": "stream",
     "text": [
      "Dataset Loaded:\n",
      "    longitude  latitude  housing_median_age  total_rooms  total_bedrooms  \\\n",
      "0    -122.23     37.88                41.0        880.0           129.0   \n",
      "1    -122.22     37.86                21.0       7099.0          1106.0   \n",
      "2    -122.24     37.85                52.0       1467.0           190.0   \n",
      "3    -122.25     37.85                52.0       1274.0           235.0   \n",
      "4    -122.25     37.85                52.0       1627.0           280.0   \n",
      "\n",
      "   population  households  median_income  median_house_value ocean_proximity  \n",
      "0       322.0       126.0         8.3252            452600.0        NEAR BAY  \n",
      "1      2401.0      1138.0         8.3014            358500.0        NEAR BAY  \n",
      "2       496.0       177.0         7.2574            352100.0        NEAR BAY  \n",
      "3       558.0       219.0         5.6431            341300.0        NEAR BAY  \n",
      "4       565.0       259.0         3.8462            342200.0        NEAR BAY  \n"
     ]
    }
   ],
   "source": [
    "# Load dataset\n",
    "df = pd.read_csv(\"housing.csv\")\n",
    "print(\"Dataset Loaded:\\n\", df.head())"
   ]
  },
  {
   "cell_type": "code",
   "execution_count": 4,
   "id": "77ee4638",
   "metadata": {},
   "outputs": [],
   "source": [
    "df = df.dropna()"
   ]
  },
  {
   "cell_type": "code",
   "execution_count": 5,
   "id": "95c498da",
   "metadata": {},
   "outputs": [],
   "source": [
    "# Define Sturge's Rule for binning\n",
    "def sturges_rule(n):\n",
    "    return int(np.ceil(1 + np.log2(n)))"
   ]
  },
  {
   "cell_type": "code",
   "execution_count": 6,
   "id": "f419a0b7",
   "metadata": {},
   "outputs": [],
   "source": [
    "# Apply stratified splitting using Sturge’s Rule\n",
    "num_bins = sturges_rule(len(df))\n",
    "df[\"price_bin\"] = pd.cut(df[\"median_house_value\"], bins=num_bins, labels=False)"
   ]
  },
  {
   "cell_type": "code",
   "execution_count": 7,
   "id": "4f80f1e8",
   "metadata": {},
   "outputs": [],
   "source": [
    "# Define features and target\n",
    "X = df.drop(columns=[\"median_house_value\", \"price_bin\"])\n",
    "y = df[\"median_house_value\"]"
   ]
  },
  {
   "cell_type": "code",
   "execution_count": 8,
   "id": "4be03d8e",
   "metadata": {},
   "outputs": [],
   "source": [
    "# One-hot encode categorical feature 'ocean_proximity'\n",
    "X = pd.get_dummies(X, drop_first=True)"
   ]
  },
  {
   "cell_type": "code",
   "execution_count": 9,
   "id": "aa71287c",
   "metadata": {},
   "outputs": [
    {
     "name": "stdout",
     "output_type": "stream",
     "text": [
      "Training and validation sets created using stratified split.\n"
     ]
    }
   ],
   "source": [
    "# Stratified splitting\n",
    "X_train, X_val, y_train, y_val = train_test_split(X, y, test_size=0.2, stratify=df[\"price_bin\"], random_state=42)\n",
    "print(\"Training and validation sets created using stratified split.\")"
   ]
  },
  {
   "cell_type": "code",
   "execution_count": 10,
   "id": "be52f41a",
   "metadata": {},
   "outputs": [],
   "source": [
    "# Feature scaling\n",
    "scaler = StandardScaler()\n",
    "X_train = scaler.fit_transform(X_train)\n",
    "X_val = scaler.transform(X_val)"
   ]
  },
  {
   "cell_type": "code",
   "execution_count": 11,
   "id": "07b87028",
   "metadata": {},
   "outputs": [
    {
     "name": "stdout",
     "output_type": "stream",
     "text": [
      "Models trained successfully.\n"
     ]
    }
   ],
   "source": [
    "# Train Ridge and Lasso models\n",
    "ridge = Ridge(alpha=1.0)\n",
    "lasso = Lasso(alpha=0.1)\n",
    "ridge.fit(X_train, y_train)\n",
    "lasso.fit(X_train, y_train)\n",
    "print(\"Models trained successfully.\")"
   ]
  },
  {
   "cell_type": "code",
   "execution_count": 12,
   "id": "b54e50f7",
   "metadata": {},
   "outputs": [],
   "source": [
    "# Predictions\n",
    "y_pred_ridge = ridge.predict(X_val)\n",
    "y_pred_lasso = lasso.predict(X_val)"
   ]
  },
  {
   "cell_type": "code",
   "execution_count": 13,
   "id": "572522ac",
   "metadata": {},
   "outputs": [
    {
     "name": "stdout",
     "output_type": "stream",
     "text": [
      "Ridge Regression Evaluation:\n",
      "MAE: 50398.52\n",
      "MSE: 5000621993.92\n",
      "RMSE: 70715.08\n",
      "\n",
      "Lasso Regression Evaluation:\n",
      "MAE: 50399.37\n",
      "MSE: 5000821787.55\n",
      "RMSE: 70716.49\n",
      "\n"
     ]
    }
   ],
   "source": [
    "# Evaluate models\n",
    "def evaluate_model(y_true, y_pred, model_name):\n",
    "    mae = mean_absolute_error(y_true, y_pred)\n",
    "    mse = mean_squared_error(y_true, y_pred)\n",
    "    rmse = np.sqrt(mse)\n",
    "    print(f\"{model_name} Evaluation:\")\n",
    "    print(f\"MAE: {mae:.2f}\")\n",
    "    print(f\"MSE: {mse:.2f}\")\n",
    "    print(f\"RMSE: {rmse:.2f}\\n\")\n",
    "    return mae, mse, rmse\n",
    "\n",
    "ridge_results = evaluate_model(y_val, y_pred_ridge, \"Ridge Regression\")\n",
    "lasso_results = evaluate_model(y_val, y_pred_lasso, \"Lasso Regression\")"
   ]
  },
  {
   "cell_type": "code",
   "execution_count": 14,
   "id": "234f6b61",
   "metadata": {},
   "outputs": [
    {
     "name": "stdout",
     "output_type": "stream",
     "text": [
      "Models and scaler saved successfully.\n"
     ]
    }
   ],
   "source": [
    "# Save model and scaler\n",
    "joblib.dump(scaler, \"scaler.pkl\")\n",
    "joblib.dump(ridge, \"ridge_model.pkl\")\n",
    "joblib.dump(lasso, \"lasso_model.pkl\")\n",
    "print(\"Models and scaler saved successfully.\")"
   ]
  },
  {
   "cell_type": "code",
   "execution_count": null,
   "id": "a5efe377",
   "metadata": {},
   "outputs": [],
   "source": []
  }
 ],
 "metadata": {
  "kernelspec": {
   "display_name": "Python 3 (ipykernel)",
   "language": "python",
   "name": "python3"
  },
  "language_info": {
   "codemirror_mode": {
    "name": "ipython",
    "version": 3
   },
   "file_extension": ".py",
   "mimetype": "text/x-python",
   "name": "python",
   "nbconvert_exporter": "python",
   "pygments_lexer": "ipython3",
   "version": "3.9.13"
  }
 },
 "nbformat": 4,
 "nbformat_minor": 5
}
