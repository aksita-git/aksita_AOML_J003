{
 "cells": [
  {
   "cell_type": "code",
   "execution_count": 1,
   "metadata": {
    "id": "E6mKMszxWFFX"
   },
   "outputs": [
    {
     "name": "stderr",
     "output_type": "stream",
     "text": [
      "C:\\Users\\91773\\AppData\\Roaming\\Python\\Python39\\site-packages\\pandas\\core\\computation\\expressions.py:21: UserWarning: Pandas requires version '2.8.4' or newer of 'numexpr' (version '2.8.3' currently installed).\n",
      "  from pandas.core.computation.check import NUMEXPR_INSTALLED\n",
      "C:\\Users\\91773\\AppData\\Roaming\\Python\\Python39\\site-packages\\pandas\\core\\arrays\\masked.py:60: UserWarning: Pandas requires version '1.3.6' or newer of 'bottleneck' (version '1.3.5' currently installed).\n",
      "  from pandas.core import (\n"
     ]
    }
   ],
   "source": [
    "import pandas as pd\n",
    "import numpy as np\n",
    "import seaborn as sns\n",
    "import matplotlib.pyplot as plt\n",
    "from sklearn.model_selection import train_test_split\n",
    "from sklearn.preprocessing import StandardScaler\n",
    "from sklearn.ensemble import RandomForestClassifier\n",
    "from sklearn.metrics import classification_report, confusion_matrix\n",
    "import joblib"
   ]
  },
  {
   "cell_type": "code",
   "execution_count": 3,
   "metadata": {
    "colab": {
     "base_uri": "https://localhost:8080/"
    },
    "id": "t4iVG92NWFDF",
    "outputId": "94a12e38-1fae-46d0-b066-98d182d36ace"
   },
   "outputs": [
    {
     "name": "stdout",
     "output_type": "stream",
     "text": [
      "Dataset Loaded:\n",
      "       object_ID        alpha      delta  UV_filter  green_filter  red_filter  \\\n",
      "0  1.240000e+18  135.6891066  32.494632   23.87882      22.27530    20.39501   \n",
      "1  1.240000e+18  144.8261006  31.274185   24.77759      22.83188    22.58444   \n",
      "2  1.240000e+18  142.1887896  35.582444   25.26307      22.66389    20.60976   \n",
      "3  1.240000e+18  338.7410378  -0.402828   22.13682      23.77656    21.61162   \n",
      "4  1.240000e+18  345.2825932  21.183866   19.43718      17.58028    16.49747   \n",
      "\n",
      "   near_IR_filter  IR_filter run_ID  rerun_ID  cam_col  field_ID  \\\n",
      "0        19.16573   18.79371   3606       301        2        79   \n",
      "1        21.16812   21.61427   4518       301        5       119   \n",
      "2        19.34857   18.94827   3606       301        2       120   \n",
      "3        20.50454   19.25010   4192       301        3       214   \n",
      "4        15.97711   15.54461    NaN       301        3       137   \n",
      "\n",
      "    spec_obj_ID  red_shift  plate_ID    MJD  fiber_ID   class  \n",
      "0  6.540000e+18   0.634794      5812  56354       171  GALAXY  \n",
      "1  1.180000e+19   0.779136     10445  58158       427  GALAXY  \n",
      "2  5.150000e+18   0.644195      4576  55592       299  GALAXY  \n",
      "3  1.030000e+19   0.932346      9149  58039       775  GALAXY  \n",
      "4  6.890000e+18   0.116123      6121  56187       842  GALAXY  \n"
     ]
    },
    {
     "name": "stderr",
     "output_type": "stream",
     "text": [
      "C:\\Users\\91773\\AppData\\Local\\Temp\\ipykernel_26440\\797721734.py:2: DtypeWarning: Columns (1,8) have mixed types. Specify dtype option on import or set low_memory=False.\n",
      "  df = pd.read_csv(\"StarClassificationDataset.csv\")\n"
     ]
    }
   ],
   "source": [
    "# Load dataset from local file\n",
    "df = pd.read_csv(\"StarClassificationDataset.csv\")\n",
    "print(\"Dataset Loaded:\\n\", df.head())"
   ]
  },
  {
   "cell_type": "code",
   "execution_count": 4,
   "metadata": {
    "id": "TRqF3MyCWFBc"
   },
   "outputs": [],
   "source": [
    "# Drop unnecessary columns\n",
    "df = df.drop(columns=['object_ID'])"
   ]
  },
  {
   "cell_type": "code",
   "execution_count": 5,
   "metadata": {
    "id": "EZmc2JYMWE--"
   },
   "outputs": [],
   "source": [
    "# Handle missing values and strip whitespace\n",
    "df = df.replace(r'^\\s*$', np.nan, regex=True).dropna()"
   ]
  },
  {
   "cell_type": "code",
   "execution_count": 6,
   "metadata": {
    "colab": {
     "base_uri": "https://localhost:8080/"
    },
    "id": "svzEjsLMWE8y",
    "outputId": "877cda01-7472-4cfd-a139-43a25543d4d8"
   },
   "outputs": [
    {
     "name": "stdout",
     "output_type": "stream",
     "text": [
      "Non-numeric columns: ['alpha', 'run_ID', 'class']\n"
     ]
    }
   ],
   "source": [
    "# Identify non-numeric columns\n",
    "non_numeric_cols = df.select_dtypes(exclude=[np.number]).columns.tolist()\n",
    "print(\"Non-numeric columns:\", non_numeric_cols)\n"
   ]
  },
  {
   "cell_type": "code",
   "execution_count": 7,
   "metadata": {
    "id": "iD-aAElqWN31"
   },
   "outputs": [],
   "source": [
    "# Convert non-numeric columns to numeric\n",
    "for col in non_numeric_cols:\n",
    "    if col != 'class':  # Skip the target column\n",
    "        df[col] = pd.to_numeric(df[col], errors='coerce')"
   ]
  },
  {
   "cell_type": "code",
   "execution_count": 8,
   "metadata": {
    "id": "tNZVYIrRWN0a"
   },
   "outputs": [],
   "source": [
    "# Drop any remaining NaN values after conversion\n",
    "df = df.dropna()"
   ]
  },
  {
   "cell_type": "code",
   "execution_count": 9,
   "metadata": {
    "id": "sq07K224WSSP"
   },
   "outputs": [],
   "source": [
    "# Convert categorical target to numeric encoding\n",
    "class_mapping = {label: idx for idx, label in enumerate(df['class'].unique())}\n",
    "df['class'] = df['class'].map(class_mapping)"
   ]
  },
  {
   "cell_type": "code",
   "execution_count": 10,
   "metadata": {
    "id": "j4OElK3IWSQJ"
   },
   "outputs": [],
   "source": [
    "# Define features and target\n",
    "X = df.drop(columns=['class'])\n",
    "y = df['class']"
   ]
  },
  {
   "cell_type": "code",
   "execution_count": 11,
   "metadata": {
    "colab": {
     "base_uri": "https://localhost:8080/"
    },
    "id": "xZfbiRoRWSN6",
    "outputId": "d48d8921-a71d-47a7-db5e-78e5376c3eac"
   },
   "outputs": [
    {
     "name": "stdout",
     "output_type": "stream",
     "text": [
      "Training set class distribution:\n",
      " class\n",
      "0    0.594417\n",
      "2    0.215962\n",
      "1    0.189621\n",
      "Name: proportion, dtype: float64\n",
      "Validation set class distribution:\n",
      " class\n",
      "0    0.594409\n",
      "2    0.215972\n",
      "1    0.189619\n",
      "Name: proportion, dtype: float64\n"
     ]
    }
   ],
   "source": [
    "# Stratified splitting\n",
    "df['class'].value_counts(normalize=True)\n",
    "X_train, X_val, y_train, y_val = train_test_split(X, y, test_size=0.2, stratify=y, random_state=42)\n",
    "print(\"Training set class distribution:\\n\", y_train.value_counts(normalize=True))\n",
    "print(\"Validation set class distribution:\\n\", y_val.value_counts(normalize=True))"
   ]
  },
  {
   "cell_type": "code",
   "execution_count": 12,
   "metadata": {
    "id": "SmImj8fbWX_d"
   },
   "outputs": [],
   "source": [
    "# Feature scaling\n",
    "scaler = StandardScaler()\n",
    "X_train = scaler.fit_transform(X_train)\n",
    "X_val = scaler.transform(X_val)"
   ]
  },
  {
   "cell_type": "code",
   "execution_count": 13,
   "metadata": {
    "colab": {
     "base_uri": "https://localhost:8080/"
    },
    "id": "xZ1SpbSVWX9X",
    "outputId": "082b648a-fb1d-4634-8bc3-94d55c222839"
   },
   "outputs": [
    {
     "name": "stdout",
     "output_type": "stream",
     "text": [
      "Model trained successfully\n"
     ]
    }
   ],
   "source": [
    "# Train classification model\n",
    "model = RandomForestClassifier(n_estimators=100, random_state=42)\n",
    "model.fit(X_train, y_train)\n",
    "print(\"Model trained successfully\")"
   ]
  },
  {
   "cell_type": "code",
   "execution_count": 14,
   "metadata": {
    "colab": {
     "base_uri": "https://localhost:8080/"
    },
    "id": "lrxnFDobWX7B",
    "outputId": "891af91c-489c-4126-d51e-8856fd07b1c8"
   },
   "outputs": [
    {
     "name": "stdout",
     "output_type": "stream",
     "text": [
      "Classification Report:\n",
      "               precision    recall  f1-score   support\n",
      "\n",
      "           0       0.98      0.99      0.98     11887\n",
      "           1       0.96      0.93      0.95      3792\n",
      "           2       0.99      1.00      1.00      4319\n",
      "\n",
      "    accuracy                           0.98     19998\n",
      "   macro avg       0.98      0.97      0.98     19998\n",
      "weighted avg       0.98      0.98      0.98     19998\n",
      "\n"
     ]
    }
   ],
   "source": [
    "# Evaluate model\n",
    "y_pred = model.predict(X_val)\n",
    "report = classification_report(y_val, y_pred)\n",
    "print(\"Classification Report:\\n\", report)"
   ]
  },
  {
   "cell_type": "code",
   "execution_count": 15,
   "metadata": {
    "colab": {
     "base_uri": "https://localhost:8080/",
     "height": 564
    },
    "id": "4nlvtSa6WE5h",
    "outputId": "9f4788ff-da81-42f3-d5e8-cc7e39f3b759"
   },
   "outputs": [
    {
     "data": {
      "image/png": "[encoded data removed]",
      "text/plain": [
       "<Figure size 800x600 with 2 Axes>"
      ]
     },
     "metadata": {},
     "output_type": "display_data"
    }
   ],
   "source": [
    "# Confusion matrix\n",
    "cm = confusion_matrix(y_val, y_pred)\n",
    "plt.figure(figsize=(8,6))\n",
    "sns.heatmap(cm, annot=True, fmt='d', cmap='Blues', xticklabels=class_mapping.keys(), yticklabels=class_mapping.keys())\n",
    "plt.xlabel(\"Predicted\")\n",
    "plt.ylabel(\"Actual\")\n",
    "plt.title(\"Confusion Matrix\")\n",
    "plt.show()"
   ]
  },
  {
   "cell_type": "code",
   "execution_count": 16,
   "metadata": {
    "colab": {
     "base_uri": "https://localhost:8080/"
    },
    "id": "eMhOEso4Wm3b",
    "outputId": "e1fba18c-7509-411b-9b71-70fe98eb4af4"
   },
   "outputs": [
    {
     "name": "stdout",
     "output_type": "stream",
     "text": [
      "Model and scaler saved successfully\n"
     ]
    }
   ],
   "source": [
    "# Save model and scaler\n",
    "joblib.dump(scaler, \"scaler.pkl\")\n",
    "joblib.dump(model, \"stellar_model.pkl\")\n",
    "print(\"Model and scaler saved successfully\")"
   ]
  }
 ],
 "metadata": {
  "colab": {
   "provenance": []
  },
  "kernelspec": {
   "display_name": "Python 3 (ipykernel)",
   "language": "python",
   "name": "python3"
  },
  "language_info": {
   "codemirror_mode": {
    "name": "ipython",
    "version": 3
   },
   "file_extension": ".py",
   "mimetype": "text/x-python",
   "name": "python",
   "nbconvert_exporter": "python",
   "pygments_lexer": "ipython3",
   "version": "3.9.13"
  }
 },
 "nbformat": 4,
 "nbformat_minor": 1
}
